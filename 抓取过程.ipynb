{
 "cells": [
  {
   "cell_type": "code",
   "execution_count": 4,
   "metadata": {
    "collapsed": false
   },
   "outputs": [
    {
     "name": "stdout",
     "output_type": "stream",
     "text": [
      "<!DOCTYPE html><html><head><meta http-equiv=\"Content-Type\" content=\"text/html; charset=gbk\" /><meta http-equiv=\"Cache-Control\" content=\"no-transform \" /><meta content=\"IE=edge, chrome=1\" http-equiv=\"X-UA-Compatible\"><!--[if lt IE 7]><html class=\"ie6\"><![endif]--><!--[if IE 7]><html class=\"ie7\"><![endif]--><!--[if IE 8]><html class=\"ie8\"><![endif]--><!--[if gte IE 9]><html class=\"ie9\"><![endif]--><title>杭州历史天气查询_历史天气预报查询_天气查询_2345天气预报</title><meta content=\"2345天气预报快速查询杭州历史天气预报查询，杭州天气预报还提供杭州各区县的生活指数、健康指数、交通指数、旅游指数，及时发布杭州气象预报、各类气象资讯。\" name=\"description\"><meta content=\"杭州历史天气，杭州历史天气查询，杭州历史天气预报，2345天气预报\" name=\"keywords\"><meta name=\"applicable-device\" content=\"pc\" /><link rel=\"shortcut icon\" href=\"/favicon.ico\" type=\"image/x-icon\" /><link rel='canonical' href='http://tianqi.2345.com/wea_history/58457.htm'><link href=\"/theme2/css/global2_v20160908054247.css\" rel=\"stylesheet\" type=\"text/css\"><link href=\"/theme2/css/wea_history_v20160527162614.css\" rel=\"stylesheet\" type=\"text/css\"><script src=\"/js/jquery.js\" type=\"text/javascript\"></script><script src=\"/js/common2_v20160923084755.js\" type=\"text/javascript\"></script><script src=\"/js/citySelectData.js\" type=\"text/javascript\"></script><script src=\"/js/jquery-ui-autocomplete.custom.js\" type=\"text/javascript\"></script><script defer=\"defer\" id=\"defaultCity\" type=\"text/javascript\"></script><script> var pageType = 'local'; </script><script> var url = location.href; var refurl = '', newmyloc = ''; newurl = url.replace(/https?:\\/\\/tianqi.2345.com\\//, ''); myloc = newurl.split('/'); if (myloc[0] == 'time' || myloc[0] == 'plugin' || myloc[0].indexOf('airtomorrow') != -1 || myloc[0].indexOf('baike') != -1) { refurl = ''; } else if (!myloc[1]) { if (myloc[0].indexOf('today') != -1) { newmyloc = myloc[0].replace(/today/, '24hour'); refurl = '//waptianqi.2345.com/' + newmyloc; } else { refurl = '//waptianqi.2345.com/' + myloc[0]; } } else if (myloc[2] == '') { refurl = '//waptianqi.2345.com/' + myloc[0] + '/' + myloc[1] + '/'; } else if (myloc[2] == undefined) { if (url.match(/\\.com\\/([a-z]+)\\/(\\d+\\.htm)/)) { refurl = '//waptianqi.2345.com/' + myloc[0] + '-' + myloc[1]; } else if (url.match(/\\.com\\/([a-z]+)-([a-z]+)\\/(\\d+\\.htm)/)) { refurl = '//waptianqi.2345.com/' + myloc[0] + '/' + myloc[1]; } else if (myloc[0] === 'wea_history') { refurl = '//waptianqi.2345.com/' + myloc[0] + '/' + myloc[1]; } } else if (myloc[1] == 'tqbb') { refurl = '//waptianqi.2345.com/html/tqbb/tqbb.htm'; }else if(myloc[1] == 'wxyt') { refurl = '//waptianqi.2345.com/html/wxyt/wxyt.htm'; } if (refurl != '') { redirectIfMobile(refurl); } </script><script type=\"text/javascript\"> (function(){ var start = (new Date()).setFullYear(2016, 4, 26), end = (new Date()).setFullYear(2017, 2, 8), now = new Date(), nowTime = now.getTime(); if (nowTime < start || nowTime > end){ setCookie('timeerror', 1, 24 * 180); } else { deleteCookie('timeerror'); } })(); </script><style type=\"text/css\"> .corner-rt{position:absolute;right:0;top:0;z-index:200} </style></head><body id=\"header\"><div class=\"stretch-wrap\"><div class=\"stretch-bg\"></div></div><!-- iphone --><div class=\"dialog dialog01 iPhone\" style=\"display: none\"><a class=\"close_btn\" href=\"javascript:;\"></a><div class=\"dialog-header\"> iPhone下载方式 </div><div class=\"dialog-content\"><dl class=\"erweima\"><dt>二维码下载</dt><dd><img src=\"/theme2/img/big-iPhone.jpg\"><p>微信扫一扫 下载手机版</p></dd></dl><dl class=\"inner-box\"><dt>iTunes同步</dt><dd><a class=\"btn appstore_btn\" target='_blank' href=\"https://itunes.apple.com/us/app/2345tian-qi-wang-tian-qi-yu/id965693108?l=zh&ls=1&mt=8\" rel='nofollow' onclick=\"allCount('download_ios_dialog');\"><i></i><span>App Store</span></a><p>或用手机直接访问 App Store搜索\"<span class=\"red\">2345天气王</span>\"进行下载。</p></dd></dl></div><div class=\"dialog-footer\"></div></div><!-- Android --><div class=\"dialog dialog01 Android\" style=\"display:none\"><a class=\"close_btn\" href=\"javascript:;\"></a><div class=\"dialog-header\"> Android下载方式 </div><div class=\"dialog-content\"><dl class=\"erweima\"><dt>二维码下载</dt><dd><img src=\"/theme2/img/big-iPhone.jpg\"><p>微信扫一扫 下载手机版</p></dd></dl><dl class=\"inner-box\"><dt>发送到手机</dt><dd><a class=\"btn tosend\" onclick=\"qqFlyDownload();allCount('qqFlyDownload_dialog');\" href=\"javascript:;\"><i></i><span>一键发送</span></a></dd><dt>下载到本地</dt><dd><a class=\"btn download\" href=\"/redirect.php?downloadQr\" rel='nofollow' onclick=\"allCount('download_android_dialog');\"><i></i><span>直接下载</span></a></dd></dl></div><div class=\"dialog-footer\"></div></div><script type=\"text/javascript\"> /*遮罩层*/ (function() { var doc = window.document; /*蒙层构造函数*/ var Overlay = function() { this.shadow = null; }; /*扩展蒙层原型*/ Overlay.prototype = { createShadow: function() { this.shadow = document.createElement('div'); $(this.shadow).addClass('mask_yutao'); $(\"body\").append(this.shadow) }, show: function() { if (!this.shadow) this.createShadow(); $(this.shadow).css(\"display\", \"block\"); var tempHeight = document.body.scrollHeight; try { $(this.shadow).css(\"height\", tempHeight + 'px'); } catch (e) { } }, hide: function() { if (!this.shadow) { this.createShadow(); } $(this.shadow).css(\"display\", \"none\"); } }; /*提供给alert弹出框使用*/ window.layer = new Overlay(); })(); /*兼容ie6弹窗方法*/ (function($) { $.fn.popupFn = function() { /*获取滚动条高度 for ie6*/ var $docWidth = document.documentElement.clientWidth / 2; var $scrTop = document.documentElement.scrollTop || document.body.scrollTop; var $docHeight = (document.documentElement.clientHeight / 2) + $scrTop; var $scrHeight = document.body.scrollHeight; /*获得窗口高度和对象高度，除以2居中，40微调*/ var $winHeight = $(window).height(); $h = $docHeight - (this.height() / 2); /*获得窗口宽度和对象宽度，除以2居中*/ var $winWidth = $(window).width(); $w = $winWidth - this.width(); $w = $w / 2; this.css({ \"top\": $h + \"px\", \"left\": $w + \"px\", \"marginLeft\": \"auto\", \"marginTop\": \"auto\" }).show(); }; })(jQuery); /*元素绑定事件*/ $(function() { $(document).on(\"click\", \".dialog .close_btn\", function() { $(this).parents(\".dialog\").hide(); layer.hide(); }); }); function showLayer() { var type = arguments[0]; layer.show(); var _isie6 = $(\"html\").hasClass(\"ie6\"); if (type == 'android') { if (_isie6) { $(\".dialog.Android\").popupFn(); } else { $(\".dialog.Android\").show(); } allCount('tq_android_icon'); } else if (type == 'iphone') { if (_isie6) { $(\".dialog.iPhone\").popupFn(); } else { $(\".dialog.iPhone\").show(); } allCount('tq_ios_icon'); } } function qqFlyDownload() { window.open('http://ctc.qzs.qq.com/open/canvas/pcpush/pcpush.htm?appid=1101014737&from=&ptlang=2052', 'newwindow', 'height=340,width=600,top=' + (screen.height - 340) / 2 + ',left=' + (screen.width - 590) / 2 + ',toolbar=no,menubar=no,scrollbars=no,resizable=no,location=no,status=no'); } </script><!--[if IE 6]><div id=\"contentWrap\" class=\"contentWrap\"><![endif]--><div class=\"container\" id=\"mainContainer\"><div class=\"corner-rt\" style=\"display: none;\"><a href=\"\" target=\"_blank\" id=\"rightTopAds\" rel=\"nofollow\" onclick=\"\"><img alt=\"台风\" height=\"100\" src=\"\" width=\"100\"></a></div><div class=\"head_w\"><div class=\"head\"><span class=\"logo\"><a href=\"/\"><img alt=\"2345天气预报\" src=\"/theme2/img/logo160722.png\"></a></span><span class=\"tsearch\"><form action=\"#\" class=\"clearfix\" id=\"searchForm\" method=\"post\" name=\"searchForm\"><input id=\"inputSearchCity\" autocomplete=\"off\" class=\"tsch_inbox ui-autocomplete-input\" name=\"city\" type=\"text\"><a class=\"tsch_btn1\" href=\"#\" onclick=\"allCount('tqSearch');$('#searchForm').submit();return false;\">查看天气</a><div class=\"suggest-list\" id=\"searchResult\"></div><div class=\"city_lx pop-layer\" id=\"citySelect\" onclick=\"allCount('tq_lianxiang');\" style=\"display:none;\"><div class=\"city_lx_more\" id=\"province\"><h3 class=\"btitle\">选择省市</h3><div class=\"meta\"><ul id=\"searchProvinceList\"></ul><script type=\"text/javascript\"> fillCitySearchForm(); </script></div></div><div class=\"city_lx_more\" id=\"city\" style=\"display:none;\"><a href='#' style='display:none;'></a></div><div class=\"city_lx_more\" id=\"county\" style=\"display:none;\"><a href='#' style='display:none;'></a></div></div></form></span><!-- headadboxstart --><div class=\"head_adbox head_adbox_plugin\" style=\"top:9px;\"><img alt=\"权威专业-中国最精准的天气预报\" height=\"54\" src=\"/theme2/img/authority239x54.png\" width=\"234\"></div><!-- headadboxend --></div><!--台风专题入口 <div class=\"corner-rt\"><a href=\"//tianqi.2345.com/news/2016_03_hanchao.htm\" onclick=\"allCount('tianqi_hanchao2')\" target=\"_blank\"><img alt=\"寒潮来袭\" height=\"100\" src=\"/theme2/img/hanchao.png\" width=\"100\"></a></div><style> .corner-rt{ position:absolute; right:0; top:0; } </style><script> $(window).bind(\"resize\", function() { var cornerRt; cornerRt = $(\".corner-rt\"); if ($(this).width() <= 1200) { cornerRt.hide(); } else { cornerRt.show(); } }).trigger(\"resize\"); </script>--></div><!-- /head_w --><script type=\"text/javascript\"> initSearchInput(); $('#interPopLayer a').click(function() { gotoMyHref($(this)) }); </script><div class=\"wrap\" id=\"wrap\"><!-- nav_mod --><div class=\"nav_mod\"><ul><li class=\"first_item\"><a rel=\"nofollow\" tj=\"1\" onclick=\"allCount('local-tab');\" href=\"/indexs.htm\"> 本地天气 </a><i></i></li><li><a rel=\"nofollow\" onclick=\"allCount('air-tab');\" href=\"/air.htm\"> 空气质量 </a><i></i></li><li><a class='current' rel=\"nofollow\" onclick=\"allCount('history-tab');\" href=\"/history.htm\"> 历史天气 </a><i></i></li><li><a rel=\"nofollow\" tj=\"1\" onclick=\"allCount('wxyt-tab');\" href=\"/t/wxyt/wxyt.htm\"> 卫星云图 </a><i></i></li><li><a onclick=\"allCount('tqwz-tab');\" href=\"/\"> 天气网址 </a><i></i></li><li><a tj=\"1\" onclick=\"allCount('international-tab');\" href=\"/asia/\"> 国际天气 </a><i></i></li><li><a tj=\"1\" onclick=\"allCount('jingdian-tab');\" href=\"/jingdian/\"> 景点天气 </a><i></i></li><li><a rel=\"nofollow\" onclick=\"allCount('zhoubianyou-tab');\" target=\"_blank\" href=\"http://lvyou.2345.com/zhoubianyou.html?tianqi\"> 周边游 </a></li></ul><div class=\"nav_btn_box\"><div><div class=\"lnktools\"><a class=\"add2desk\" href=\"javascript:\" onclick=\"allCount('tq_down_tianqiwang');qqFlyDownloadTqw();\">手机看天气</a><div class=\"qrcode-content\"><span class=\"line\"></span><div class=\"qrcode-module\"><img class=\"qrcode\" src=\"/theme2/img/big-qrcode.jpg\"><div class=\"inner-box\"><p>微信扫一扫<br>下载手机版</p><div class=\"dashed\"></div><div class=\"phone\"><div class=\"android\" onclick=\"layer.show();$('.dialog.Android').show();allCount('tq_android_icon');\"><span></span>安卓</div><div class=\"iPhone\" onclick=\"layer.show();$('.dialog.iPhone').show();allCount('tq_ios_icon');\"><span></span>苹果</div></div></div></div></div></div><div class=\"add_favorite\"><a class=\"favorite_btn\" href=\"javascript:;\" onclick=\"addToFavorite();allCount('tianqi_jrsc');\">加入收藏</a></div></div></div><span class=\"n_r\"></span></div><!-- /nav_mod --><script> function qqFlyDownloadTqw() { window.open('http://ctc.qzs.qq.com/open/canvas/pcpush/pcpush.htm?appid=1101014737&from=&ptlang=2052', 'newwindow', 'height=340,width=600,top=' + (screen.height - 340) / 2 + ',left=' + (screen.width - 590) / 2 + ',toolbar=no,menubar=no,scrollbars=no,resizable=no,location=no,status=no'); } $(function() { $(\".lnktools\").hover(function() { $(this).addClass('hover'); $(\".lnktools .qrcode-content\").show(); }, function() { $(this).removeClass('hover'); $(\".lnktools .qrcode-content\").hide(); }); if( navigator.userAgent.toLowerCase().indexOf('chrome')> -1 ){ var rightTopAds = \"rightTopAds\" , rightTopAdsImgPath = \"/theme2/images/rightTop\"; var cookieValue = getCookie(rightTopAds); cookieValue = cookieValue == null ? 1 : (cookieValue > 2 ? 1 : cookieValue); var rightTopAdsUrls = new Array(); rightTopAdsUrls[1] = \"http://www.77tianqi.com/suanming/pc/baziPay.htm?from=tqsijiao\"; rightTopAdsUrls[2] = \"http://www.77tianqi.com/frame/sm/pcyinyuan?from=tqsijiao\"; $('#rightTopAds').attr('href', rightTopAdsUrls[cookieValue]); $('#rightTopAds').attr('onclick', \"allCount('tq_sijiao_\" + cookieValue + \"');\"); $('#rightTopAds').find('img').attr('src', rightTopAdsImgPath + cookieValue + '.png'); $('#rightTopAds').closest('div').show(); setCookie(rightTopAds, cookieValue + 1); } }) </script><div class=\"path\"><div class=\"path_lf\"> 当前位置： <a href=\"/\" title=\"天气预报\">天气预报</a><span>&gt;</span><a title=\"浙江天气预报\" href=\"/zhejiang_dz/42.htm\" >浙江天气预报</a><span>&gt;</span><a title=\"杭州天气预报\" href=\"/hangzhou/58457.htm\" >杭州天气预报</a><span>&gt;</span><a title=\"杭州历史天气\" href=\"/wea_history/58457.htm\" id=\"lastBread\">杭州历史天气</a></div><style> .baidushare_title{ margin-right: 5px; line-height: 40px; _line-height: 30px; color: #999; } #BAIDU_wrapper,.baidushare_title{ float: right; overflow:hidden; *zoom:1; } .bai-left,.bai-right{ float:left; display:inline;} </style><div id=\"BAIDU_wrapper\"><div class=\"bai-left\"><script type=\"text/javascript\"> /*天气预报PC版临时1本地天气半条文字链200*30 创建于 2016-11-17（徐娇对接*/ var cpro_id = \"u2511149\"; </script><script type=\"text/javascript\" src=\"//cpro.baidustatic.com/cpro/ui/c.js\"></script></div></div><div class=\"baidushare_title\">猜你喜欢:</div></div><div class=\"history-page clearfix\"><div class=\"col-1\"><div class=\"module module-data\"><div class=\"btitle clearfix\"><h1>杭州市<span id=\"zhuyue\">2017年7月</span>历史天气 </h1><div class=\"switch\"><a class=\"switch-name\" href=\"#\" id=\"switchHisCity\"><i></i>切换城市</a><div class=\"switch-layer pop-layer\" id=\"switchLayer\"><div class=\"filter\"></div><div class=\"choose\"><select class=\"province_ls\" id=\"selectProv\" name=\"province_ls\" ></select><select class=\"chengs_ls\" id=\"chengs_ls\" name=\"chengs_ls\" ></select><select class=\"cityqx_ls\" id=\"cityqx_ls\" name=\"xian_ls\"></select><input id=\"hiddenpvid_ls\" name=\"hiddenpvid_ls\" type=\"hidden\" value=\"12\"><a class=\"submit\" href=\"javascript:void(0);\" id=\"buttonsdm_dz\">确认</a><input type=\"hidden\" id=\"hisCity\" value=\"58457\"><input type=\"hidden\" id=\"hisYear\" value=\"2017\"><input type=\"hidden\" id=\"hisMonth\" value=\"7\"><input type=\"hidden\" id=\"currYear\" value=\"2017\"><input type=\"hidden\" id=\"currMonth\" value=\"7\"></div></div></div><div class=\"posRt\"><div class=\"date-select date-select-year\" id=\"chooseHisYear\" ><div class=\"field\">2017年</div><i class=\"trigger\"></i><ul class=\"list pop-layer\"><li data-val=\"year-2011\">2011年</li><li data-val=\"year-2012\">2012年</li><li data-val=\"year-2013\">2013年</li><li data-val=\"year-2014\">2014年</li><li data-val=\"year-2015\">2015年</li><li data-val=\"year-2016\">2016年</li><li data-val=\"year-2017\">2017年</li></ul></div><div class=\"date-select date-select-month\" id=\"chooseHisMonth\"><div class=\"field\">7月</div><i class=\"trigger\"></i><ul class=\"list pop-layer\"><script> for(i=1;i<13;i++){ document.write(\"<li data-val='month-\"+i+\"'>\"+i+\"月</li>\"); } </script></ul></div></div></div><div class=\"meta\" id=\"hisContent\"><div class=\"nodata\" style=\"display:none;\"></div><div class=\"summa\"><ul id=\"weather_ul2\" class=\"has_aqi\" style=\"display:none;\"><li><div><strong>平均高温：</strong><span class=\"cOrange\"></span> &nbsp;&nbsp;&nbsp;&nbsp;&nbsp;<strong>平均低温：</strong><span class=\"cBlue\"></span></div><div><strong>平均空气质量指数：</strong></div></li><li><div><strong>极端高温：</strong><span class=\"cOrange\"></span></div><div><strong>空气最好：</strong><span class=\"cBlue\">中度污染</span><span class=\"date\"></span></div></li><li><div><strong>极端低温：</strong><span class=\"cBlue\"></span><span class=\"date\"></span></div><div><strong>空气最差：</strong><span class=\"cOrange\">中度污染</span><span class=\"date\"></span></div></li></ul><ul id=\"weather_ul\" style=\"display:block\"><li><strong>平均高温：</strong><span class=\"cOrange\"></span></li><li><strong>平均低温：</strong><span class=\"cBlue\"></span></li><li><strong>极端高温：</strong></li><li><strong>极端低温：</strong></li></ul></div><div class=\"data-table\" id=\"weather_tab\"></div><div class=\"page\" id=\"prevNextBtn\"><a class=\"prev\" href=\"\">上一月</a><a class=\"next next-disabled\" href=\"\">下一月</a></div></div><div class=\"angle angle-lt\"></div><div class=\"angle angle-rt\"></div><div class=\"angle angle-lb\"></div><div class=\"angle angle-rb\"></div></div></div><div class=\"col-2 module\"><div class=\"btitle hotcity\"><h2>热门城市天气</h2></div><div class=\"meta hotcity-cnt\"><ul class=\"row3 clearfix\"><li><a target=\"_blank\" title=\"公安天气\" href=\"/gongan/70309.htm\">公安天气</a><li><a target=\"_blank\" title=\"峨山天气\" href=\"/eshan/70858.htm\">峨山天气</a><li><a target=\"_blank\" title=\"云林天气\" href=\"/yunlin/71306.htm\">云林天气</a><li><a target=\"_blank\" title=\"阳朔天气\" href=\"/yangshuo/60087.htm\">阳朔天气</a><li><a target=\"_blank\" title=\"涵江天气\" href=\"/hanjiang/71394.htm\">涵江天气</a><li><a target=\"_blank\" title=\"十堰天气\" href=\"/shiyan/57252.htm\">十堰天气</a><li><a target=\"_blank\" title=\"珙县天气\" href=\"/gongxian/70715.htm\">珙县天气</a><li><a target=\"_blank\" title=\"赛罕天气\" href=\"/saihan/71107.htm\">赛罕天气</a><li><a target=\"_blank\" title=\"郫县天气\" href=\"/pixian/60724.htm\">郫县天气</a><li><a target=\"_blank\" title=\"文昌天气\" href=\"/wenchang/59856.htm\">文昌天气</a><li><a target=\"_blank\" title=\"越西天气\" href=\"/yuexi/70757.htm\">越西天气</a><li><a target=\"_blank\" title=\"襄汾天气\" href=\"/xiangfen/60694.htm\">襄汾天气</a><li><a target=\"_blank\" title=\"昔阳天气\" href=\"/xiyang/70689.htm\">昔阳天气</a><li><a target=\"_blank\" title=\"河南天气\" href=\"/henan/71196.htm\">河南天气</a><li><a target=\"_blank\" title=\"五大连池天气\" href=\"/wudalianchi/60350.htm\">五大连池天气</a><li><a target=\"_blank\" title=\"梅县天气\" href=\"/meixian/71157.htm\">梅县天气</a><li><a target=\"_blank\" title=\"祁连天气\" href=\"/qilian/60326.htm\">祁连天气</a><li><a target=\"_blank\" title=\"萧县天气\" href=\"/xiaoxian/60771.htm\">萧县天气</a><li><a target=\"_blank\" title=\"益阳天气\" href=\"/yiyang/57674.htm\">益阳天气</a><li><a target=\"_blank\" title=\"新乡天气\" href=\"/xinxiang/53986.htm\">新乡天气</a><li><a target=\"_blank\" title=\"太仓天气\" href=\"/taicang/60041.htm\">太仓天气</a><li><a target=\"_blank\" title=\"武宣天气\" href=\"/wuxuan/61043.htm\">武宣天气</a><li><a target=\"_blank\" title=\"梁河天气\" href=\"/lianghe/70874.htm\">梁河天气</a><li><a target=\"_blank\" title=\"普定天气\" href=\"/puding/70147.htm\">普定天气</a><li><a target=\"_blank\" title=\"宁城天气\" href=\"/ningcheng/60147.htm\">宁城天气</a><li><a target=\"_blank\" title=\"且末天气\" href=\"/qiemo/70827.htm\">且末天气</a><li><a target=\"_blank\" title=\"桐柏天气\" href=\"/tongbai/60982.htm\">桐柏天气</a><li><a target=\"_blank\" title=\"冷水江天气\" href=\"/leng/60884.htm\">冷水江天气</a><li><a target=\"_blank\" title=\"江永天气\" href=\"/jiangyong/70335.htm\">江永天气</a><li><a target=\"_blank\" title=\"巴仑台天气\" href=\"/baluntai/70795.htm\">巴仑台天气</a><li><a target=\"_blank\" title=\"错那天气\" href=\"/cuona/71044.htm\">错那天气</a><li><a target=\"_blank\" title=\"蔚县天气\" href=\"/yuxian/70232.htm\">蔚县天气</a><li><a target=\"_blank\" title=\"汨罗天气\" href=\"/miluo/60612.htm\">汨罗天气</a><li><a target=\"_blank\" title=\"广宗天气\" href=\"/guangzong/70191.htm\">广宗天气</a><li><a target=\"_blank\" title=\"峄城天气\" href=\"/yicheng/70639.htm\">峄城天气</a><li><a target=\"_blank\" title=\"吉首天气\" href=\"/jishou/71421.htm\">吉首天气</a><li><a target=\"_blank\" title=\"绍兴天气\" href=\"/shaoxing/58453.htm\">绍兴天气</a><li><a target=\"_blank\" title=\"桃源天气\" href=\"/taoyuan/60681.htm\">桃源天气</a><li><a target=\"_blank\" title=\"定兴天气\" href=\"/dingxing/71235.htm\">定兴天气</a><li><a target=\"_blank\" title=\"酉阳天气\" href=\"/youyang/60288.htm\">酉阳天气</a><li><a target=\"_blank\" title=\"高唐天气\" href=\"/gaotang/70615.htm\">高唐天气</a><li><a target=\"_blank\" title=\"全椒天气\" href=\"/quanjiao/60598.htm\">全椒天气</a><li><a target=\"_blank\" title=\"红河天气\" href=\"/honghe/56975.htm\">红河天气</a><li><a target=\"_blank\" title=\"通河天气\" href=\"/tonghe/61045.htm\">通河天气</a><li><a target=\"_blank\" title=\"邻水天气\" href=\"/linshui/60420.htm\">邻水天气</a><li><a target=\"_blank\" title=\"准格尔旗天气\" href=\"/zhungeerqi/60353.htm\">准格尔旗天气</a><li><a target=\"_blank\" title=\"会宁天气\" href=\"/huining/70051.htm\">会宁天气</a><li><a target=\"_blank\" title=\"灌云天气\" href=\"/guanyun/70444.htm\">灌云天气</a><li><a target=\"_blank\" title=\"阳曲天气\" href=\"/yangqu/70695.htm\">阳曲天气</a><li><a target=\"_blank\" title=\"茌平天气\" href=\"/chiping/70611.htm\">茌平天气</a><li><a target=\"_blank\" title=\"宁远天气\" href=\"/ningyuan/70344.htm\">宁远天气</a></ul><a class=\"more-btn\" href=\"javascript:void(0);\"><i></i></a><script> $(\".hotcity-cnt .more-btn\").bind(\"click\",function(){ $(this).prev().toggleClass(\"auto\"); $(this).find(\"i\").toggleClass(\"uarr\"); scrollFixed(); }); </script></div><div class=\"meta money-cnt sidebar-money clearfix\"><div class=\"module module-money\" style=\"margin-top:0px;\"><div class=\"money\" style=\"border:none;\"><script> var cpro_id = \"u2125389\"; (window[\"cproStyleApi\"] = window[\"cproStyleApi\"] || {})[cpro_id]={at:\"3\",rsi0:\"250\",rsi1:\"250\",pat:\"6\",tn:\"baiduCustNativeAD\",rss1:\"#FFFFFF\",conBW:\"0\",adp:\"1\",ptt:\"0\",titFF:\"%E5%BE%AE%E8%BD%AF%E9%9B%85%E9%BB%91\",titFS:\"14\",rss2:\"#333\",titSU:\"0\",ptbg:\"90\",piw:\"0\",pih:\"0\",ptp:\"0\"}; </script><script src=\"//cpro.baidustatic.com/cpro/ui/c.js\"></script></div></div></div><!-- /ad --><div class=\"angle angle-lt\"></div><div class=\"angle angle-rt\"></div><div class=\"angle angle-lb\"></div><div class=\"angle angle-rb\"></div></div></div><script> bindInitEvent(); scrollFixed(); $('#switchHisCity').click(function(){ isShowing = $('#switchLayer').css('display') == 'block'; mytoggleLayer(isShowing, $('#switchLayer'), $(this)); return false; }); $('#chooseHisYear .field, #chooseHisMonth .field').click(function(){ $('#chooseHisMonth li').removeClass('disabled'); var isShow = $(this).parent().find('ul',0).css('display') == 'block'; mytoggleLayer(isShow,$(this).parent().find('ul',0), $(this)); if($('#currYear').val() == $('#hisYear').val()){ $('#chooseHisMonth li').each(function(index,element){ if(index > $('#currMonth').val()-1){ $(element).addClass('disabled'); } }); } return false; }); $('#chooseHisYear li, #chooseHisMonth li').click(function(){ var data = $(this).data('val').split('-'); if(data[0] == 'year'){ $('#hisYear').val(data[1]); hisDate.setFullYear($('#hisYear').val()); } else{ $('#hisMonth').val(data[1]); hisDate.setMonth($('#hisMonth').val()-1); } updatePrevNextBtn(); getData(); $(this).parent().hide(); }); $('#buttonsdm_dz').click(function(){ window.location.href = \"/wea_history/\" + $('#cityqx_ls').val() + '.htm'; }); var hisDate = new Date(); hisDate.setFullYear($('#hisYear').val(), $('#hisMonth').val()-1,1); $('#prevNextBtn a').click(function(){ if($(this).attr('class').indexOf('disabled') > -1){ return false; } if($(this).hasClass('prev')){ hisDate.setMonth(hisDate.getMonth()-1); } else{ hisDate.setMonth(hisDate.getMonth()+1); } $('#hisYear').val(hisDate.getFullYear()); $('#hisMonth').val(hisDate.getMonth()+1); updatePrevNextBtn(); getData(); return false; }); function updatePrevNextBtn() { $('#chooseHisYear .field').html(hisDate.getFullYear() + '年'); $('#chooseHisMonth .field').html((hisDate.getMonth()+1) + '月'); if(hisDate.getFullYear() == 2011 && hisDate.getMonth() == 0){ $('#prevNextBtn a.prev').addClass('prev-disabled'); } else{ $('#prevNextBtn a.prev').removeClass('prev-disabled'); } if(hisDate.getFullYear() == $('#currYear').val() && hisDate.getMonth() >= $('#currMonth').val()-1){ $('#prevNextBtn a.next').addClass('next-disabled'); setNoHistoryHint(); } else{ $('#prevNextBtn a.next').removeClass('next-disabled'); } $('#zhuyue').html($('#hisYear').val()+'年'+$('#hisMonth').val()+'月'); } seedProvCityCountySelect('selectProv','chengs_ls','cityqx_ls'); if(getCookie(\"selectCityValue\")) { var cityList = unescape(getCookie(\"selectCityValue\")).replace('undefined',''); var listArray = cityList.split(\"|\"); setTimeout(function(){ $('#selectProv')[0].value = listArray[0]; $('#selectProv').trigger('change'); $('#chengs_ls')[0].value = listArray[1]; $('#chengs_ls').trigger('change'); $('#cityqx_ls')[0].value = listArray[2]; },220); } function getData() { var cityId = $('#hisCity').val(); var year = $('#hisYear').val(); var month = $('#hisMonth').val(); var newMonth = month; weather_str = null; if(year < 2016) { loadJs(\"/t/wea_history/js/\" + cityId + \"_\" + year + month + \".js\", renderTable); } else { if(year == 2016 && month < 3) { loadJs(\"/t/wea_history/js/\" + cityId + \"_\" + year + month + \".js\", renderTable); } else { if(month < 10) { newMonth = '0' + month; } loadJs(\"/t/wea_history/js/\" + year + newMonth + \"/\" + cityId + \"_\" + year + newMonth + \".js\", renderTable); } } } function setNoHistoryHint() { $('#hisContent .nodata').html(\"抱歉，暂无\"+ $('#hisYear').val()+'年'+$('#hisMonth').val()+'月历史天气数据'); $('#hisContent div').hide(); $('#hisContent div.nodata').show(); $(\".hotcity-cnt .row3\").removeClass(\"auto\"); $(\".hotcity-cnt .more-btn i\").removeClass(\"uarr\"); } function renderTable() { if(weather_str == null) return; $('#hisContent div.nodata').empty(); $('#hisContent div').show(); $('#hisContent div.nodata').hide(); var weather_tab=$('#weather_tab'); var weaLen=weather_str.tqInfo.length-1; var weahistory=[]; var week='' ; var d=new Array( \"星期日\", \"星期一\", \"星期二\", \"星期三\", \"星期四\", \"星期五\", \"星期六\"); if(weather_str.maxAqi != null) { weahistory.push(\"<table><colgroup><col width=\\\"20%\\\"><col width=\\\"12%\\\"><col width=\\\"12%\\\"><col width=\\\"20%\\\"><col width=\\\"20%\\\"><col width=\\\"16%\\\"></colgroup><thead><tr><th>日期</th><th class=\\\"center\\\">最高气温</th><th class=\\\"center\\\">最低气温</th><th>天气</th><th>风向风力</th><th>空气质量指数</th></tr></thead><tbody>\"); } else { weahistory.push(\"<table><colgroup><col width=\\\"20%\\\"><col width=\\\"12%\\\"><col width=\\\"12%\\\"><col width=\\\"20%\\\"><col width=\\\"20%\\\"><col width=\\\"16%\\\"></colgroup><thead><tr><th>日期</th><th class=\\\"center\\\">最高气温</th><th class=\\\"center\\\">最低气温</th><th>天气</th><th>风向</th><th>风力</th></tr></thead><tbody>\"); } for(var i=0;i<weaLen;i++){ today=NewDate(weather_str.tqInfo[i].ymd); if(today.getDay()==0 || today.getDay()==6) { week = \"<span class=\\\"weekend\\\">\"+d[today.getDay()]+\"</span>\"; } else { week = \"<span class=\\\"week\\\">\"+d[today.getDay()]+\"</span>\"; } if(weather_str.tqInfo[i].aqi == null) { weather_str.tqInfo[i].aqi = '-'; } if(weather_str.tqInfo[i].aqiInfo == null) { weather_str.tqInfo[i].aqiInfo = '-'; } if(weather_str.tqInfo[i].aqiLevel == null) { weather_str.tqInfo[i].aqiLevel = 1; } weahistory.push(\"<tr onmouseout=\\\"this.style.backgroundColor=''\\\"onmouseover=\\\"this.style.backgroundColor='#f1f1f1'\\\"><td>\"+weather_str.tqInfo[i].ymd+week+\"</td><td class=\\\"center\\\"><span class='red'>\"+weather_str.tqInfo[i].bWendu+\"</span></td><td class=\\\"center\\\"><span class=\\\"blue\\\">\"+weather_str.tqInfo[i].yWendu+\"</span></td>\"); if(weather_str.maxAqi != null) { weahistory.push(\"<td>\"+weather_str.tqInfo[i].tianqi+\"</td><td>\"+weather_str.tqInfo[i].fengxiang+weather_str.tqInfo[i].fengli+\"</span></td><td><label class='number'>\"+weather_str.tqInfo[i].aqi+\"</label><span class='aqi-lv\"+weather_str.tqInfo[i].aqiLevel+\"'>\"+weather_str.tqInfo[i].aqiInfo+\"</span></td></tr>\"); } else { weahistory.push(\"<td>\"+weather_str.tqInfo[i].tianqi+\"</td><td>\"+weather_str.tqInfo[i].fengxiang+\"</td><td>\"+weather_str.tqInfo[i].fengli+\"</td></tr>\"); } } weahistory.push('</tbody></table>'); weather_tab.html(weahistory.join(\"\")); if(weather_str.maxAqi != null) { $('#weather_ul').hide(); $('#weather_ul2').show(); $($($('#weather_ul2').find('li')[0]).find('div')[0]).html(\"<strong>平均高温：</strong><span class='cOrange'>\"+weather_str.avgbWendu+\"℃</span>&nbsp;&nbsp;&nbsp;&nbsp;&nbsp;<strong>平均低温：</strong><span class='cBlue'>\"+weather_str.avgyWendu+\"℃</span>\"); $($($('#weather_ul2').find('li')[0]).find('div')[1]).html(\"<strong>平均空气质量指数：\"+weather_str.avgAqi+ \" </strong>\"); var maxWendu = slipWendu(weather_str.maxWendu); $($($('#weather_ul2').find('li')[1]).find('div')[0]).html(\"<strong>极端高温：</strong><span class='cOrange'>\"+maxWendu[0]+\"</span><span class='date'>（\"+maxWendu[1]+\"）</span>\"); $($($('#weather_ul2').find('li')[1]).find('div')[1]).html(\"<strong>空气最好：\"+weather_str.minAqi+\"</strong><span class='aqi-lv\"+weather_str.minAqiLevel+\"'>&nbsp;\"+weather_str.minAqiInfo+\"</span><span class='date'>（\"+weather_str.minAqiDate+\"）</span>\"); var minWendu = slipWendu(weather_str.minWendu); $($($('#weather_ul2').find('li')[2]).find('div')[0]).html(\"<strong>极端低温：</strong><span class='cBlue'>\"+minWendu[0]+\"</span><span class='date'> （\"+minWendu[1]+\"）</span>\"); $($($('#weather_ul2').find('li')[2]).find('div')[1]).html(\"<strong>空气最差：\"+weather_str.maxAqi+\"</strong><span class='aqi-lv\"+weather_str.maxAqiLevel+\"'>&nbsp;\"+weather_str.maxAqiInfo+\"</span><span class='date'>（\"+weather_str.maxAqiDate+\"）</span>\"); } else { $('#weather_ul2').hide(); $('#weather_ul').show(); $($('#weather_ul').find('li')[0]).find('span').html(weather_str.avgbWendu+'℃'); $($('#weather_ul').find('li')[1]).find('span').html(weather_str.avgyWendu+'℃'); var maxWendu = slipWendu(weather_str.maxWendu); $($('#weather_ul').find('li')[2]).html(\"<strong>极端高温：</strong><span class='cOrange'>\"+maxWendu[0]+\"</span><span class='date'>（\"+maxWendu[1]+\"）</span>\"); var minWendu = slipWendu(weather_str.minWendu); $($('#weather_ul').find('li')[3]).html(\"<strong>极端低温：</strong><span class='cBlue'>\"+minWendu[0]+\"</span><span class='date'> （\"+minWendu[1]+\"）</span>\"); } } function NewDate(str) { str = str.split('-'); var date = new Date(); date.setUTCFullYear(str[0], str[1] - 1, str[2]); date.setUTCHours(0, 0, 0, 0); return date; }; function slipWendu(wendu) { var str = wendu.split(\"（\"); var theDate = wendu.match(/(\\d{4})-(\\d{2})-(\\d{2})/); return [str[0]+\"℃\",parseInt(theDate[2],10)+\"月\"+parseInt(theDate[3],10)+\"日\"]; }; getData(); </script></div><!-- end of div.wrap--><div class=\"footer\"><div class=\"wp\"><p class=\"p1\"><script type=\"text/javascript\"> document.write('<a rel=\"nofollow\" class=\"f_steer\" href=\"http://bbs.2345.com/fk/index.htm?cName=' + escape('天气') + '\" target=\"_blank\">意见反馈</a>'); </script><span class=\"pipe\">|</span><a href=\"/tianqifk/index.htm\" id=\"ipCheckError\" rel=\"nofollow\" target=\"_blank\" onclick=\"allCount('tq_correctlocation');\"></a><span class=\"pipe\">|</span><a href=\"/plugin/\" target=\"_blank\" title=\"天气插件\">天气插件</a><script> if (!/msie/.test(navigator.userAgent.toLowerCase())) { document.write('<span class=\"pipe\">|</span><a href=\"//waptianqi.2345.com/\" target=\"_blank\" onclick=\"document.cookie=\\'vmod=mobile;\\';\">手机网页版</a>'); } </script><span class=\"pipe\">|</span><a href=\"/tianqiapp/\" target=\"_blank\" title=\"2345天气王移动版\">手机APP官网</a><span class=\"pipe\">|</span><!--2017/04/06 去掉显示 <a href=\"http://lvyou.2345.com/zhoubianyou.html?tianqi\" onclick=\"allCount('tianqi_lvy_bottom');\" rel=\"nofollow\" target=\"_blank\" title=\"周边游\">周边游</a>--><a href=\"http://tools.2345.com/zhgjm.htm\" onclick=\"allCount('tianqi_zhgjm_bottom');\" target=\"_blank\" title=\"周公解梦\">周公解梦</a></p><p class=\"p2\"><a href=\"/seo/sitemap1.htm\" target=\"_blank\">网站地图</a><a href=\"/baidu/SitemapIndex.xml\" target=\"_blank\">XML地图</a><span class=\"copyright\">版权所有&nbsp;&copy;&nbsp;2345.com</span><a href=\"//www.2345.com/icp.jpg\" rel=\"nofollow\" target=\"_blank\">ICP证沪B2-20120099</a><a class=\"back_index\" href=\"/\">返回首页</a></p><style> .wp{ position:relative;} .footer-ad{ position:absolute; right:0; top:18px; overflow:hidden; *zoom:1;} .footer-ad li{ float:left; display:inline; margin-right:10px;} .footer-ad-left{ position:absolute; left:0; top:18px; overflow:hidden; *zoom:1;} .footer-ad-left li{ float:left; display:inline; margin-right:10px;} </style><ul class=\"footer-ad\"><li><script type=\"text/javascript\"> /*天气预报PC底部周边游右侧100：30广告1 创建于 2016/11/25（徐娇对接）*/ var cpro_id = \"u2827830\"; </script><script type=\"text/javascript\" src=\"//cpro.baidustatic.com/cpro/ui/c.js\"></script></li><li><script type=\"text/javascript\"> /*天气预报PC底部周边游右侧100：30广告2 创建于 2016/11/25（徐娇对接）*/ var cpro_id = \"u2827840\"; </script><script type=\"text/javascript\" src=\"//cpro.baidustatic.com/cpro/ui/c.js\"></script></li></ul><ul class=\"footer-ad-left\"><li><script type=\"text/javascript\"> /*天气预报PC底部周边游右侧100：30广告1 创建于 2016/11/25（徐娇对接）*/ var cpro_id = \"u2839413\"; </script><script type=\"text/javascript\" src=\"//cpro.baidustatic.com/cpro/ui/c.js\"></script></li><li><script type=\"text/javascript\"> /*天气预报PC底部周边游右侧100：30广告2 创建于 2016/11/25（徐娇对接）*/ var cpro_id = \"u2839421\"; </script><script type=\"text/javascript\" src=\"//cpro.baidustatic.com/cpro/ui/c.js\"></script></li></ul></div></div></div><!-- end of container--><!--[if IE 6]><div id=\"poplayerbg\" class=\"poplayerbg\"><iframe frameborder=\"0\" src=\"about:blank;\" style=\"position:absolute;top:0px;right:0px;width:100%;height:100%;z-index:-1;filter:alpha(opacity=0);\"></iframe></div><![endif]--><script type=\"text/javascript\">\n",
      "bindInitEvent();\n",
      "loadTopBanner();\n",
      "$('#poplayer').appendTo('body');\n",
      "</script><script type=\"text/javascript\"> (function() { if (\"http:\" === location.protocol) { var protocols = ['https', 'http'], src_url = '', ifr = null, timestamp = new Date().getTime(); for (var i = 0; i < protocols.length; i++) { src_url = protocols[i] + '://tianqi.2345.com/ifr_' + protocols[i] + '.htm?' + location.href + '&t=' + timestamp; ifr = document.createElement(\"iframe\"); ifr.src = src_url; ifr.style.display = \"none\"; document.body.appendChild(ifr); } } })(); </script><style> #showqr{ display: block; width: 115px; height: 139px; position: fixed; _position: absolute; top:61.25%;_top: expression(documentElement.scrollTop + documentElement.clientHeight - this.offsetHeight - 100);right: 5px; z-index: 999 ;} #showqr a{ display: block; width: 115px; height: 139px; position:relative;text-decoration: none; background: url(\"/theme2/img/qr_tianqi_v20160524.png\") no-repeat;background-position: 6px 0; } #showqr b{ display: block; cursor: pointer; width: 13px; height: 13px; position: absolute; top: 6px; left: 6px;} #showqr.hover a{background-position: -113px 0;} #showqr.hover b{background-position: 0 -14px;}\n",
      "</style><script type=\"text/javascript\" src=\"/js/qrCode_v20160530.js\"></script><div style=\"display:none\"><script src=\"//union2.50bang.org/js/tianqi\"></script><script> var _hmt = _hmt || []; (function() { var hm = document.createElement(\"script\"); hm.src = \"//hm.baidu.com/hm.js?a3f2879f6b3620a363bec646b7a8bcdd\"; var s = document.getElementsByTagName(\"script\")[0]; s.parentNode.insertBefore(hm, s); })(); </script></div></body></html>\n"
     ]
    }
   ],
   "source": [
    "#获取整个网页信息——非结构化数据\n",
    "import requests\n",
    "res = requests.get('http://tianqi.2345.com/wea_history/58457.htm')\n",
    "#res.encoding = 'utf-8'#如果出现乱码\n",
    "print res.text"
   ]
  },
  {
   "cell_type": "code",
   "execution_count": 10,
   "metadata": {
    "collapsed": false
   },
   "outputs": [
    {
     "name": "stdout",
     "output_type": "stream",
     "text": [
      "<class 'bs4.BeautifulSoup'>\n",
      "  hello world This is link1 This is link2  \n"
     ]
    }
   ],
   "source": [
    "#把上面的结构化数据提取出来,用BeaftifulSoup,可以把内容提取出来，把标签去除,例子如下\n",
    "from bs4 import BeautifulSoup\n",
    "html_sample = '\\\n",
    "<html>\\\n",
    " <body>\\\n",
    " <h1 id = \"title\">hello world</h1>\\\n",
    " <a href = \"#\" class = \"link\">This is link1</a>\\\n",
    " <a href = \"# link2\" class = \"link\">This is link2</a>\\\n",
    " </body>\\\n",
    " </html>'\n",
    "\n",
    "soup = BeautifulSoup(html_sample,'html.parser')\n",
    "print(type(soup))\n",
    "print(soup.text)"
   ]
  },
  {
   "cell_type": "code",
   "execution_count": 13,
   "metadata": {
    "collapsed": false
   },
   "outputs": [
    {
     "name": "stdout",
     "output_type": "stream",
     "text": [
      "[<h1 id=\"title\">hello world</h1>]\n",
      "<h1 id=\"title\">hello world</h1>\n",
      "hello world\n"
     ]
    }
   ],
   "source": [
    "#使用select 找出h1标签的元素\n",
    "header = soup.select('h1')\n",
    "print header #是一个列表\n",
    "print header[0]#取出列表的第一个元素\n",
    "print header[0].text#打出里面的文字"
   ]
  },
  {
   "cell_type": "code",
   "execution_count": 17,
   "metadata": {
    "collapsed": false
   },
   "outputs": [
    {
     "name": "stdout",
     "output_type": "stream",
     "text": [
      "[<a class=\"link\" href=\"#\">This is link1</a>, <a class=\"link\" href=\"# link2\">This is link2</a>]\n",
      "<a class=\"link\" href=\"#\">This is link1</a>\n",
      "This is link1\n",
      "This is link2\n"
     ]
    }
   ],
   "source": [
    "#使用select找出a标签的元素\n",
    "alink = soup.select('a')\n",
    "print alink #是一个列表\n",
    "print alink[0]#取出列表的第一个元素\n",
    "for link in alink:\n",
    "    #print link\n",
    "    print link.text"
   ]
  },
  {
   "cell_type": "code",
   "execution_count": 19,
   "metadata": {
    "collapsed": false
   },
   "outputs": [
    {
     "name": "stdout",
     "output_type": "stream",
     "text": [
      "<h1 id=\"title\">hello world</h1>\n"
     ]
    }
   ],
   "source": [
    "for link in soup.select('#title'):\n",
    "    print link"
   ]
  },
  {
   "cell_type": "code",
   "execution_count": 18,
   "metadata": {
    "collapsed": false
   },
   "outputs": [
    {
     "name": "stdout",
     "output_type": "stream",
     "text": [
      "<a class=\"link\" href=\"#\">This is link1</a>\n",
      "<a class=\"link\" href=\"# link2\">This is link2</a>\n"
     ]
    }
   ],
   "source": [
    "#select 找出所有class为link的元素（class前面需加.）\n",
    "for link in soup.select('.link'):\n",
    "    print link"
   ]
  },
  {
   "cell_type": "code",
   "execution_count": 21,
   "metadata": {
    "collapsed": false
   },
   "outputs": [
    {
     "name": "stdout",
     "output_type": "stream",
     "text": [
      "#\n",
      "# link2\n"
     ]
    }
   ],
   "source": [
    "#使用select找出所有a tag的href连结\n",
    "alinks = soup.select('a')\n",
    "for link in alinks:\n",
    "    #print link\n",
    "    print link['href']"
   ]
  },
  {
   "cell_type": "code",
   "execution_count": 24,
   "metadata": {
    "collapsed": false
   },
   "outputs": [
    {
     "name": "stdout",
     "output_type": "stream",
     "text": [
      "[<a abc=\"456\" href=\"#\" qoo=\"123\"> i am a link</a>]\n",
      "123\n"
     ]
    }
   ],
   "source": [
    "a = '<a href = \"#\" qoo =123 abc =456> i am a link</a>'\n",
    "soup2 = BeautifulSoup(a,'html.parser')\n",
    "print soup2.select('a')\n",
    "print soup2.select('a')[0]['qoo']"
   ]
  }
 ],
 "metadata": {
  "kernelspec": {
   "display_name": "Python 2",
   "language": "python",
   "name": "python2"
  },
  "language_info": {
   "codemirror_mode": {
    "name": "ipython",
    "version": 2
   },
   "file_extension": ".py",
   "mimetype": "text/x-python",
   "name": "python",
   "nbconvert_exporter": "python",
   "pygments_lexer": "ipython2",
   "version": "2.7.13"
  }
 },
 "nbformat": 4,
 "nbformat_minor": 2
}
