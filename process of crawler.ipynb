{
 "cells": [
  {
   "cell_type": "code",
   "execution_count": 4,
   "metadata": {
    "collapsed": false
   },
   "outputs": [],
   "source": [
    "#获取整个网页信息——非结构化数据\n",
    "import requests\n",
    "res = requests.get('http://tianqi.2345.com/wea_history/58457.htm')\n",
    "#res.encoding = 'utf-8'#如果出现乱码\n",
    "#print res.text"
   ]
  },
  {
   "cell_type": "code",
   "execution_count": 2,
   "metadata": {
    "collapsed": false
   },
   "outputs": [
    {
     "name": "stdout",
     "output_type": "stream",
     "text": [
      "<class 'bs4.BeautifulSoup'>\n",
      "  hello world This is link1 This is link2  \n"
     ]
    }
   ],
   "source": [
    "#把上面的结构化数据提取出来,用BeaftifulSoup,可以把内容提取出来，把标签去除,例子如下\n",
    "from bs4 import BeautifulSoup\n",
    "html_sample = '\\\n",
    "<html>\\\n",
    " <body>\\\n",
    " <h1 id = \"title\">hello world</h1>\\\n",
    " <a href = \"#\" class = \"link\">This is link1</a>\\\n",
    " <a href = \"# link2\" class = \"link\">This is link2</a>\\\n",
    " </body>\\\n",
    " </html>'\n",
    "\n",
    "soup = BeautifulSoup(html_sample,'html.parser')\n",
    "print(type(soup))\n",
    "print(soup.text)"
   ]
  },
  {
   "cell_type": "code",
   "execution_count": 13,
   "metadata": {
    "collapsed": false
   },
   "outputs": [
    {
     "name": "stdout",
     "output_type": "stream",
     "text": [
      "[<h1 id=\"title\">hello world</h1>]\n",
      "<h1 id=\"title\">hello world</h1>\n",
      "hello world\n"
     ]
    }
   ],
   "source": [
    "#使用select 找出h1标签的元素\n",
    "header = soup.select('h1')\n",
    "print header #是一个列表\n",
    "print header[0]#取出列表的第一个元素\n",
    "print header[0].text#打出里面的文字"
   ]
  },
  {
   "cell_type": "code",
   "execution_count": 17,
   "metadata": {
    "collapsed": false
   },
   "outputs": [
    {
     "name": "stdout",
     "output_type": "stream",
     "text": [
      "[<a class=\"link\" href=\"#\">This is link1</a>, <a class=\"link\" href=\"# link2\">This is link2</a>]\n",
      "<a class=\"link\" href=\"#\">This is link1</a>\n",
      "This is link1\n",
      "This is link2\n"
     ]
    }
   ],
   "source": [
    "#使用select找出a标签的元素\n",
    "alink = soup.select('a')\n",
    "print alink #是一个列表\n",
    "print alink[0]#取出列表的第一个元素\n",
    "for link in alink:\n",
    "    #print link\n",
    "    print link.text"
   ]
  },
  {
   "cell_type": "code",
   "execution_count": 19,
   "metadata": {
    "collapsed": false
   },
   "outputs": [
    {
     "name": "stdout",
     "output_type": "stream",
     "text": [
      "<h1 id=\"title\">hello world</h1>\n"
     ]
    }
   ],
   "source": [
    "for link in soup.select('#title'):\n",
    "    print link"
   ]
  },
  {
   "cell_type": "code",
   "execution_count": 18,
   "metadata": {
    "collapsed": false
   },
   "outputs": [
    {
     "name": "stdout",
     "output_type": "stream",
     "text": [
      "<a class=\"link\" href=\"#\">This is link1</a>\n",
      "<a class=\"link\" href=\"# link2\">This is link2</a>\n"
     ]
    }
   ],
   "source": [
    "#select 找出所有class为link的元素（class前面需加.）\n",
    "for link in soup.select('.link'):\n",
    "    print link"
   ]
  },
  {
   "cell_type": "code",
   "execution_count": 21,
   "metadata": {
    "collapsed": false
   },
   "outputs": [
    {
     "name": "stdout",
     "output_type": "stream",
     "text": [
      "#\n",
      "# link2\n"
     ]
    }
   ],
   "source": [
    "#使用select找出所有a tag的href连结\n",
    "alinks = soup.select('a')\n",
    "for link in alinks:\n",
    "    #print link\n",
    "    print link['href']"
   ]
  },
  {
   "cell_type": "code",
   "execution_count": 24,
   "metadata": {
    "collapsed": false
   },
   "outputs": [
    {
     "name": "stdout",
     "output_type": "stream",
     "text": [
      "[<a abc=\"456\" href=\"#\" qoo=\"123\"> i am a link</a>]\n",
      "123\n"
     ]
    }
   ],
   "source": [
    "a = '<a href = \"#\" qoo =123 abc =456> i am a link</a>'\n",
    "soup2 = BeautifulSoup(a,'html.parser')\n",
    "print soup2.select('a')\n",
    "print soup2.select('a')[0]['qoo']"
   ]
  }
 ],
 "metadata": {
  "kernelspec": {
   "display_name": "Python 2",
   "language": "python",
   "name": "python2"
  },
  "language_info": {
   "codemirror_mode": {
    "name": "ipython",
    "version": 2
   },
   "file_extension": ".py",
   "mimetype": "text/x-python",
   "name": "python",
   "nbconvert_exporter": "python",
   "pygments_lexer": "ipython2",
   "version": "2.7.13"
  }
 },
 "nbformat": 4,
 "nbformat_minor": 2
}
